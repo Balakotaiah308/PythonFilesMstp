{
 "cells": [
  {
   "cell_type": "markdown",
   "metadata": {},
   "source": [
    "# numbers divisible by 6 &not factor of100"
   ]
  },
  {
   "cell_type": "code",
   "execution_count": 1,
   "metadata": {},
   "outputs": [
    {
     "ename": "IndentationError",
     "evalue": "unexpected indent (<ipython-input-1-f7cf7aeb1546>, line 6)",
     "output_type": "error",
     "traceback": [
      "\u001b[1;36m  File \u001b[1;32m\"<ipython-input-1-f7cf7aeb1546>\"\u001b[1;36m, line \u001b[1;32m6\u001b[0m\n\u001b[1;33m    if n%6==0:\u001b[0m\n\u001b[1;37m    ^\u001b[0m\n\u001b[1;31mIndentationError\u001b[0m\u001b[1;31m:\u001b[0m unexpected indent\n"
     ]
    }
   ],
   "source": [
    "a=int(input(\"enter the lb value\"))\n",
    "b=int(input(\"enter the ub value\"))\n",
    "n=int(input())\n",
    "c=0\n",
    "\n",
    "        if n%6==0:\n",
    "            c=c+1\n",
    "def factor(n,c)\n",
    "     for i in range of 100(n,c)\n",
    "\n"
   ]
  },
  {
   "cell_type": "code",
   "execution_count": 3,
   "metadata": {},
   "outputs": [
    {
     "name": "stdout",
     "output_type": "stream",
     "text": [
      "enter the lb value1\n",
      "enter the ub value100\n",
      "6\n",
      "12\n",
      "18\n",
      "24\n",
      "30\n",
      "36\n",
      "42\n",
      "48\n",
      "54\n",
      "60\n",
      "66\n",
      "72\n",
      "78\n",
      "84\n",
      "90\n",
      "96\n"
     ]
    }
   ],
   "source": [
    "l=int(input(\"enter the lb value\"))\n",
    "u=int(input(\"enter the ub value\"))\n",
    "def finddevnotfactor(a):\n",
    "    if a%6==0 and 100%a!=0:\n",
    "        print(a)\n",
    "for i in range(1,u+1):\n",
    "    finddevnotfactor(i)\n"
   ]
  },
  {
   "cell_type": "code",
   "execution_count": 11,
   "metadata": {},
   "outputs": [
    {
     "name": "stdout",
     "output_type": "stream",
     "text": [
      "enter the lb value1\n",
      "enter the ub value100\n",
      "8\n",
      "64\n",
      "216\n",
      "512\n",
      "1000\n",
      "1728\n",
      "2744\n",
      "4096\n",
      "5832\n",
      "8000\n",
      "10648\n",
      "13824\n",
      "17576\n",
      "21952\n",
      "27000\n",
      "32768\n",
      "39304\n",
      "46656\n",
      "54872\n",
      "64000\n",
      "74088\n",
      "85184\n",
      "97336\n",
      "110592\n",
      "125000\n",
      "140608\n",
      "157464\n",
      "175616\n",
      "195112\n",
      "216000\n",
      "238328\n",
      "262144\n",
      "287496\n",
      "314432\n",
      "343000\n",
      "373248\n",
      "405224\n",
      "438976\n",
      "474552\n",
      "512000\n",
      "551368\n",
      "592704\n",
      "636056\n",
      "681472\n",
      "729000\n",
      "778688\n",
      "830584\n",
      "884736\n",
      "941192\n",
      "1000000\n"
     ]
    }
   ],
   "source": [
    "l=int(input(\"enter the lb value\"))\n",
    "u=int(input(\"enter the ub value\"))\n",
    "def finddevnotfactor(l,u):\n",
    "    for i in range(l,u+1):\n",
    "        if i%2==0:\n",
    "            print(i**3)\n",
    "finddevnotfactor(l,u)"
   ]
  },
  {
   "cell_type": "code",
   "execution_count": 14,
   "metadata": {},
   "outputs": [
    {
     "name": "stdout",
     "output_type": "stream",
     "text": [
      "enter lb value1\n",
      "enter ub value12\n",
      "588\n"
     ]
    }
   ],
   "source": [
    "lb=int(input(\"enter lb value\"))\n",
    "ub=int(input(\"enter ub value\"))\n",
    "def avgofcubeofeven(x,y):\n",
    "    c=0\n",
    "    e=0\n",
    "    for i in range(lb,ub+1):\n",
    "        if i%2==0:\n",
    "            c=c+(i**3)\n",
    "            e+=1\n",
    "    print(c//e)\n",
    "avgofcubeofeven(lb,ub)    "
   ]
  },
  {
   "cell_type": "code",
   "execution_count": 7,
   "metadata": {
    "scrolled": true
   },
   "outputs": [
    {
     "data": {
      "text/plain": [
       "'e'"
      ]
     },
     "execution_count": 7,
     "metadata": {},
     "output_type": "execute_result"
    }
   ],
   "source": [
    "d={\"a\":65,\"c\":82,\"f\":36,\"d\":72,\"e\":91}\n",
    "l=sorted(d)\n",
    "l[3]"
   ]
  },
  {
   "cell_type": "code",
   "execution_count": null,
   "metadata": {},
   "outputs": [],
   "source": []
  }
 ],
 "metadata": {
  "kernelspec": {
   "display_name": "Python 3",
   "language": "python",
   "name": "python3"
  },
  "language_info": {
   "codemirror_mode": {
    "name": "ipython",
    "version": 3
   },
   "file_extension": ".py",
   "mimetype": "text/x-python",
   "name": "python",
   "nbconvert_exporter": "python",
   "pygments_lexer": "ipython3",
   "version": "3.7.3"
  }
 },
 "nbformat": 4,
 "nbformat_minor": 2
}
